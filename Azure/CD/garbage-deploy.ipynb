{
  "cells": [
    {
      "cell_type": "code",
      "source": [
        "!rm -rf models"
      ],
      "outputs": [],
      "execution_count": 2,
      "metadata": {}
    },
    {
      "cell_type": "code",
      "source": [
        "from azure.storage.blob import BlobServiceClient\r\n",
        "import os\r\n",
        "\r\n",
        "# Artifact Information\r\n",
        "MODEL_ZIP_FILE = \"models2023-04-01 20:01:11.zip\"\r\n",
        "AZURE_BLOB_DATA_FILE_PATH = 'Trained_models/' + MODEL_ZIP_FILE\r\n",
        "\r\n",
        "# Azure Constants\r\n",
        "CONTAINER_NAME = \"azureml-blobstore-afaa340e-8029-4073-bfbd-01de34e364bd\"\r\n",
        "CONNECTION_STRING = \"DefaultEndpointsProtocol=https;AccountName=garbagenetclas4048036826;AccountKey=EqBkL/lJUkc01dqCxs9FOrQ1qlqZBdjLYMg2kuhhs1Cx945LjUpDyAtReCNkVUThBeyF6Qnmw6re+AStO0YfxA==;EndpointSuffix=core.windows.net\"\r\n",
        "\r\n",
        "# Azure Set Up\r\n",
        "def get_azure_blob_client():\r\n",
        "    blob_service_client = BlobServiceClient.from_connection_string(CONNECTION_STRING)\r\n",
        "    blob_client = blob_service_client.get_blob_client(container=CONTAINER_NAME, blob=AZURE_BLOB_DATA_FILE_PATH)\r\n",
        "    return blob_client\r\n",
        "\r\n",
        "# Getting Model Artifact\r\n",
        "def get_model():\r\n",
        "    blob_client = get_azure_blob_client()\r\n",
        "    \r\n",
        "    # Download the blob to a local file\r\n",
        "    with open(\"models.zip\", \"wb\") as my_blob:\r\n",
        "      download_stream = blob_client.download_blob()\r\n",
        "      my_blob.write(download_stream.readall())\r\n",
        "\r\n",
        "get_model()"
      ],
      "outputs": [],
      "execution_count": 5,
      "metadata": {
        "jupyter": {
          "source_hidden": false,
          "outputs_hidden": false
        },
        "nteract": {
          "transient": {
            "deleting": false
          }
        },
        "gather": {
          "logged": 1680379639314
        }
      }
    },
    {
      "cell_type": "code",
      "source": [
        "# Setting the required directory structure for tf-serving\r\n",
        "!unzip 'models.zip'\r\n",
        "!mkdir assets\r\n",
        "!mv /mnt/batch/tasks/shared/LS_root/mounts/clusters/garbage-machine/code/Users/varunvora24/CD/assets /mnt/batch/tasks/shared/LS_root/mounts/clusters/garbage-machine/code/Users/varunvora24/CD/models/\r\n",
        "!rm -rf \"models.zip\""
      ],
      "outputs": [
        {
          "output_type": "stream",
          "name": "stdout",
          "text": "Archive:  models.zip\n  inflating: models/saved_model.pb   \n  inflating: models/fingerprint.pb   \n   creating: models/assets/\n  inflating: models/variables/variables.index  \n  inflating: models/variables/variables.data-00000-of-00001  \n"
        }
      ],
      "execution_count": 7,
      "metadata": {
        "jupyter": {
          "source_hidden": false,
          "outputs_hidden": false
        },
        "nteract": {
          "transient": {
            "deleting": false
          }
        },
        "gather": {
          "logged": 1680379681296
        }
      }
    },
    {
      "cell_type": "code",
      "source": [
        "%%writefile Dockerfile\r\n",
        "# Docker pulls the specified image and sets it as the working image\r\n",
        "ARG BASE_IMAGE=\"ubuntu:20.04\"\r\n",
        "FROM ${BASE_IMAGE}\r\n",
        "\r\n",
        "# Allow log messages to be dumped in the stream (not buffer)\r\n",
        "ENV PYTHONUNBUFFERED TRUE\r\n",
        "\r\n",
        "# Install the Ubuntu dependencies and Python 3\r\n",
        "RUN apt-get update \\\r\n",
        "    && apt-get install --no-install-recommends -y \\\r\n",
        "    ca-certificates \\\r\n",
        "    python3-dev \\\r\n",
        "    python3-distutils \\\r\n",
        "    python3-venv \\\r\n",
        "    curl \\\r\n",
        "    wget \\\r\n",
        "    unzip \\\r\n",
        "    gnupg \\\r\n",
        "    && rm -rf /var/lib/apt/lists/* \\\r\n",
        "    && cd /tmp \\\r\n",
        "    && curl -O https://bootstrap.pypa.io/get-pip.py \\\r\n",
        "    && python3 get-pip.py \\\r\n",
        "    && rm get-pip.py\r\n",
        "\r\n",
        "# Create a new Python env and include it in the PATH\r\n",
        "RUN python3 -m venv /home/venv\r\n",
        "ENV PATH=\"/home/venv/bin:$PATH\"\r\n",
        "\r\n",
        "# Update the default system Python version to Python3/PIP3\r\n",
        "RUN update-alternatives --install /usr/bin/python python /usr/bin/python3 1\r\n",
        "RUN update-alternatives --install /usr/local/bin/pip pip /usr/local/bin/pip3 1\r\n",
        "\r\n",
        "# Creates a new Ubuntu user\r\n",
        "RUN useradd -m model-server\r\n",
        "\r\n",
        "# Upgrades PIP before proceeding and installs setuptools\r\n",
        "RUN pip install pip --upgrade\r\n",
        "RUN pip install -U pip setuptools\r\n",
        "\r\n",
        "# Installs the TensorFlow Serving requirements\r\n",
        "RUN pip install tensorflow-cpu==2.11.0\r\n",
        "RUN echo \"deb [arch=amd64] http://storage.googleapis.com/tensorflow-serving-apt stable tensorflow-model-server tensorflow-model-server-universal\" | tee /etc/apt/sources.list.d/tensorflow-serving.list && \\\r\n",
        "curl https://storage.googleapis.com/tensorflow-serving-apt/tensorflow-serving.release.pub.gpg | apt-key add -\r\n",
        "RUN apt-get update && apt-get install tensorflow-model-server -y\r\n",
        "\r\n",
        "# Downloads the TensorFlow trained model\r\n",
        "RUN cd /home \\\r\n",
        "    && mkdir /home/saved_models/ \\\r\n",
        "    && cd /home/saved_models/ \\\r\n",
        "    && mkdir garbagenet \\\r\n",
        "    && cd garbagenet \\\r\n",
        "    && mkdir dir 1\r\n",
        "\r\n",
        "WORKDIR /home/saved_models/\r\n",
        "\r\n",
        "COPY models/ /home/saved_models/garbagenet/1\r\n",
        "\r\n",
        "RUN ls --recursive /home/saved_models/\r\n",
        "\r\n",
        "RUN pwd \\\r\n",
        "    && ls -lart \\\r\n",
        "    && cd /home/saved_models/garbagenet \\\r\n",
        "    && ls -lart\r\n",
        "\r\n",
        "# Sets the proper rights to the /home/saved_models dir and the created Python env\r\n",
        "RUN chown -R model-server /home/saved_models \\\r\n",
        "    && chown -R model-server /home/venv\r\n",
        "    \r\n",
        "# Creates a directory for the logs and sets permissions to it\r\n",
        "RUN mkdir /home/logs \\\r\n",
        "    && chown -R model-server /home/logs\r\n",
        "\r\n",
        "# Defines the model_path environment variable and the model name\r\n",
        "ENV MODEL_PATH=/home/saved_models/garbagenet\r\n",
        "ENV MODEL_NAME=garbagenet\r\n",
        "\r\n",
        "# Expose the ports 8500 (gRPC) and 8501 (REST)\r\n",
        "ENV GRPC_PORT=8500\r\n",
        "ENV REST_PORT=8501\r\n",
        "EXPOSE $GRPC_PORT $REST_PORT\r\n",
        "\r\n",
        "# Prepare the CMD that will be run on docker run\r\n",
        "USER model-server\r\n",
        "CMD tensorflow_model_server --port=$GRPC_PORT --rest_api_port=$REST_PORT --model_name=$MODEL_NAME --model_base_path=$MODEL_PATH >> /home/logs/server.log"
      ],
      "outputs": [
        {
          "output_type": "stream",
          "name": "stdout",
          "text": "Writing Dockerfile\n"
        }
      ],
      "execution_count": 8,
      "metadata": {
        "jupyter": {
          "source_hidden": false,
          "outputs_hidden": false
        },
        "nteract": {
          "transient": {
            "deleting": false
          }
        }
      }
    },
    {
      "cell_type": "code",
      "source": [
        "%%writefile garbage-tf-serving-image-build-push.yml\r\n",
        "trigger:\r\n",
        "- main\r\n",
        "\r\n",
        "pool:\r\n",
        "  name: Default\r\n",
        "\r\n",
        "jobs:\r\n",
        "- job:\r\n",
        "  displayName: \"Tf-Serving Image Build Push\"\r\n",
        "  \r\n",
        "  steps:\r\n",
        "  \r\n",
        "  - task: Docker@0\r\n",
        "    displayName: 'Build an image'\r\n",
        "    inputs:\r\n",
        "      azureSubscription: 'Azure subscription 1(e6d4c51e-0d82-4960-829a-196186580859)'\r\n",
        "      azureContainerRegistry: '{\"loginServer\":\"garbagenettrainer.azurecr.io\", \"id\" : \"/subscriptions/e6d4c51e-0d82-4960-829a-196186580859/resourceGroups/ELG5164-Garbagenet/providers/Microsoft.ContainerRegistry/registries/GarbagenetTrainer\"}'\r\n",
        "      imageName: 'garbagenet-tf-serving'\r\n",
        "      includeLatestTag: true\r\n",
        "      \r\n",
        "  - task: Docker@0\r\n",
        "    displayName: 'Push an image'\r\n",
        "    inputs:\r\n",
        "      azureSubscription: 'Azure subscription 1(e6d4c51e-0d82-4960-829a-196186580859)'\r\n",
        "      azureContainerRegistry: '{\"loginServer\":\"garbagenettrainer.azurecr.io\", \"id\" : \"/subscriptions/e6d4c51e-0d82-4960-829a-196186580859/resourceGroups/ELG5164-Garbagenet/providers/Microsoft.ContainerRegistry/registries/GarbagenetTrainer\"}'\r\n",
        "      action: 'Push an image'\r\n",
        "      imageName: 'garbagenet-tf-serving'\r\n",
        "      includeLatestTag: true"
      ],
      "outputs": [
        {
          "output_type": "stream",
          "name": "stdout",
          "text": "Writing garbage-tf-serving-image-build-push.yml\n"
        }
      ],
      "execution_count": 9,
      "metadata": {
        "jupyter": {
          "source_hidden": false,
          "outputs_hidden": false
        },
        "nteract": {
          "transient": {
            "deleting": false
          }
        }
      }
    },
    {
      "cell_type": "code",
      "source": [
        "%%writefile garbagenet.yaml\r\n",
        "apiVersion: apps/v1\r\n",
        "kind: Deployment\r\n",
        "metadata:\r\n",
        "  name: \"garbagenet-deployment\"\r\n",
        "spec:\r\n",
        "  selector:\r\n",
        "    matchLabels:\r\n",
        "      app: \"garbagenet\"\r\n",
        "  replicas: 3\r\n",
        "  template:\r\n",
        "    metadata:\r\n",
        "      labels:\r\n",
        "        app: \"garbagenet\"\r\n",
        "    spec:\r\n",
        "      imagePullSecrets:\r\n",
        "        - name: acr-auth-secret\r\n",
        "      containers:\r\n",
        "        - name: \"garbagenet\"\r\n",
        "          image: garbagenettrainer.azurecr.io/garbagenet-tf-serving:latest\r\n",
        "          ports:\r\n",
        "          - containerPort: 8500\r\n",
        "          - containerPort: 8501\r\n",
        "---\r\n",
        "apiVersion: \"v1\"\r\n",
        "kind: \"Service\"\r\n",
        "metadata:\r\n",
        "  name: \"garbagenet-service\"\r\n",
        "  namespace: \"default\"\r\n",
        "  labels:\r\n",
        "    app: \"garbagenet\"\r\n",
        "spec:\r\n",
        "  ports:\r\n",
        "  - name: \"tensorflow-svc\"\r\n",
        "    protocol: \"TCP\"\r\n",
        "    port: 8500\r\n",
        "    targetPort: 8500\r\n",
        "  - name: \"tensorflow-rest\"\r\n",
        "    protocol: \"TCP\"\r\n",
        "    port: 8501\r\n",
        "    targetPort: 8501\r\n",
        "  selector:\r\n",
        "    app: \"garbagenet\"\r\n",
        "  type: \"LoadBalancer\""
      ],
      "outputs": [
        {
          "output_type": "stream",
          "name": "stdout",
          "text": "Overwriting garbagenet.yaml\n"
        }
      ],
      "execution_count": 31,
      "metadata": {
        "jupyter": {
          "source_hidden": false,
          "outputs_hidden": false
        },
        "nteract": {
          "transient": {
            "deleting": false
          }
        }
      }
    },
    {
      "cell_type": "code",
      "source": [
        "!git lfs track models\r\n",
        "!git add Dockerfile garbage-tf-serving-image-build-push.yml garbagenet.yaml models\r\n",
        "!git commit -m \"Preparing Deployment Files\"\r\n",
        "!git push -u --all origin"
      ],
      "outputs": [
        {
          "output_type": "stream",
          "name": "stdout",
          "text": "\"models\" already supported\n[master 3b98115] Preparing Deployment Files\n 1 file changed, 41 insertions(+)\n create mode 100644 garbagenet.yaml\nLocking support detected on remote \"origin\". Consider enabling it with:\n  $ git config lfs.https://varunvora24@dev.azure.com/varunvora24/ELG-5164-Garbagenet-MLOPs/_git/ELG-5164-Garbagenet-MLOPs.git/info/lfs.locksverify true\nEnumerating objects: 4, done.\nCounting objects: 100% (4/4), done.\nDelta compression using up to 4 threads\nCompressing objects: 100% (3/3), done.\nWriting objects: 100% (3/3), 701 bytes | 33.00 KiB/s, done.\nTotal 3 (delta 0), reused 0 (delta 0), pack-reused 0\nremote: Analyzing objects... (3/3) (9 ms)\u001b[K\nremote: Storing packfile... done (58 ms)\u001b[K\nremote: Storing index... done (151 ms)\u001b[K\nTo https://dev.azure.com/varunvora24/ELG-5164-Garbagenet-MLOPs/_git/ELG-5164-Garbagenet-MLOPs\n   ddb124e..3b98115  master -> master\nbranch 'master' set up to track 'origin/master'.\n"
        }
      ],
      "execution_count": 11,
      "metadata": {
        "jupyter": {
          "source_hidden": false,
          "outputs_hidden": false
        },
        "nteract": {
          "transient": {
            "deleting": false
          }
        }
      }
    },
    {
      "cell_type": "code",
      "source": [
        "!az extension add --name azure-devops\r\n",
        "!az devops configure --defaults organization=https://dev.azure.com/varunvora24/ project=ELG-5164-Garbagenet-MLOPs\r\n",
        "!az login --identity\r\n",
        "!az pipelines run --name \"Garbagenet-TF-Serving-Image-Build-Push\""
      ],
      "outputs": [],
      "execution_count": null,
      "metadata": {
        "jupyter": {
          "source_hidden": false,
          "outputs_hidden": false
        },
        "nteract": {
          "transient": {
            "deleting": false
          }
        }
      }
    },
    {
      "cell_type": "code",
      "source": [
        "!az aks create --resource-group ELG5164-Garbagenet --name garbagenet-cluster --node-count 1 --generate-ssh-keys"
      ],
      "outputs": [
        {
          "output_type": "stream",
          "name": "stdout",
          "text": "\u001b[K{| Finished ..\n  \"aadProfile\": null,\n  \"addonProfiles\": null,\n  \"agentPoolProfiles\": [\n    {\n      \"availabilityZones\": null,\n      \"count\": 1,\n      \"creationData\": null,\n      \"currentOrchestratorVersion\": \"1.24.9\",\n      \"enableAutoScaling\": false,\n      \"enableEncryptionAtHost\": false,\n      \"enableFips\": false,\n      \"enableNodePublicIp\": false,\n      \"enableUltraSsd\": false,\n      \"gpuInstanceProfile\": null,\n      \"hostGroupId\": null,\n      \"kubeletConfig\": null,\n      \"kubeletDiskType\": \"OS\",\n      \"linuxOsConfig\": null,\n      \"maxCount\": null,\n      \"maxPods\": 110,\n      \"minCount\": null,\n      \"mode\": \"System\",\n      \"name\": \"nodepool1\",\n      \"nodeImageVersion\": \"AKSUbuntu-1804gen2containerd-202303.06.0\",\n      \"nodeLabels\": null,\n      \"nodePublicIpPrefixId\": null,\n      \"nodeTaints\": null,\n      \"orchestratorVersion\": \"1.24.9\",\n      \"osDiskSizeGb\": 128,\n      \"osDiskType\": \"Managed\",\n      \"osSku\": \"Ubuntu\",\n      \"osType\": \"Linux\",\n      \"podSubnetId\": null,\n      \"powerState\": {\n        \"code\": \"Running\"\n      },\n      \"provisioningState\": \"Succeeded\",\n      \"proximityPlacementGroupId\": null,\n      \"scaleDownMode\": null,\n      \"scaleSetEvictionPolicy\": null,\n      \"scaleSetPriority\": null,\n      \"spotMaxPrice\": null,\n      \"tags\": null,\n      \"type\": \"VirtualMachineScaleSets\",\n      \"upgradeSettings\": {\n        \"maxSurge\": null\n      },\n      \"vmSize\": \"Standard_DS2_v2\",\n      \"vnetSubnetId\": null,\n      \"workloadRuntime\": null\n    }\n  ],\n  \"apiServerAccessProfile\": null,\n  \"autoScalerProfile\": null,\n  \"autoUpgradeProfile\": null,\n  \"azurePortalFqdn\": \"garbagenet-elg5164-garbagen-e6d4c5-imsmcvxq.portal.hcp.eastus2.azmk8s.io\",\n  \"currentKubernetesVersion\": \"1.24.9\",\n  \"disableLocalAccounts\": false,\n  \"diskEncryptionSetId\": null,\n  \"dnsPrefix\": \"garbagenet-ELG5164-Garbagen-e6d4c5\",\n  \"enablePodSecurityPolicy\": null,\n  \"enableRbac\": true,\n  \"extendedLocation\": null,\n  \"fqdn\": \"garbagenet-elg5164-garbagen-e6d4c5-imsmcvxq.hcp.eastus2.azmk8s.io\",\n  \"fqdnSubdomain\": null,\n  \"httpProxyConfig\": null,\n  \"id\": \"/subscriptions/e6d4c51e-0d82-4960-829a-196186580859/resourcegroups/ELG5164-Garbagenet/providers/Microsoft.ContainerService/managedClusters/garbagenet-cluster\",\n  \"identity\": {\n    \"principalId\": \"51112bb0-2952-4311-b03d-f5d794bef69a\",\n    \"tenantId\": \"0db441e6-b9ba-4da4-96e2-097c08885f09\",\n    \"type\": \"SystemAssigned\",\n    \"userAssignedIdentities\": null\n  },\n  \"identityProfile\": {\n    \"kubeletidentity\": {\n      \"clientId\": \"4538619b-c8b0-40e5-8154-987c4ad04372\",\n      \"objectId\": \"b2ac12b2-9ac2-49c3-96ef-232865ff5c32\",\n      \"resourceId\": \"/subscriptions/e6d4c51e-0d82-4960-829a-196186580859/resourcegroups/MC_ELG5164-Garbagenet_garbagenet-cluster_eastus2/providers/Microsoft.ManagedIdentity/userAssignedIdentities/garbagenet-cluster-agentpool\"\n    }\n  },\n  \"kubernetesVersion\": \"1.24.9\",\n  \"linuxProfile\": {\n    \"adminUsername\": \"azureuser\",\n    \"ssh\": {\n      \"publicKeys\": [\n        {\n          \"keyData\": \"ssh-rsa AAAAB3NzaC1yc2EAAAADAQABAAABAQCZu0mgVOYH2qHS9adDqLQ+BCbrSwK7/y+YnaC6BIWtGrtRTg6AQJQtNrT9FHqtdBP44dQWhaUe9AFzJLdDbW4X3Xmsr82fbbpRcXt6LOWC3owb6VVNmX36UlK6XnHQMYqpPZ/DFiFfIk7et4jyz2DKLVS1O659Z0Im4pRywKjDBfk3mQZOgE7JJcRHBH0REMNNfc1tlmif6D4TyQHoGNFZJnPn2UuqwSno61/K01MKS390JJEDeAdVEhZNWfazOP8GAx+C0yKZM8ZATRLxai6hbjsxlQ5rYlMNXxIrDnSGvpxbUjX3jpxDSUE+v+dbBMWPoQu5WDQ44olIUxuPcmlz\"\n        }\n      ]\n    }\n  },\n  \"location\": \"eastus2\",\n  \"maxAgentPools\": 100,\n  \"name\": \"garbagenet-cluster\",\n  \"networkProfile\": {\n    \"dnsServiceIp\": \"10.0.0.10\",\n    \"dockerBridgeCidr\": \"172.17.0.1/16\",\n    \"ipFamilies\": [\n      \"IPv4\"\n    ],\n    \"loadBalancerProfile\": {\n      \"allocatedOutboundPorts\": null,\n      \"effectiveOutboundIPs\": [\n        {\n          \"id\": \"/subscriptions/e6d4c51e-0d82-4960-829a-196186580859/resourceGroups/MC_ELG5164-Garbagenet_garbagenet-cluster_eastus2/providers/Microsoft.Network/publicIPAddresses/f1fa152c-8ceb-4bc9-a017-95759c6096eb\",\n          \"resourceGroup\": \"MC_ELG5164-Garbagenet_garbagenet-cluster_eastus2\"\n        }\n      ],\n      \"enableMultipleStandardLoadBalancers\": null,\n      \"idleTimeoutInMinutes\": null,\n      \"managedOutboundIPs\": {\n        \"count\": 1,\n        \"countIpv6\": null\n      },\n      \"outboundIPs\": null,\n      \"outboundIpPrefixes\": null\n    },\n    \"loadBalancerSku\": \"Standard\",\n    \"natGatewayProfile\": null,\n    \"networkMode\": null,\n    \"networkPlugin\": \"kubenet\",\n    \"networkPolicy\": null,\n    \"outboundType\": \"loadBalancer\",\n    \"podCidr\": \"10.244.0.0/16\",\n    \"podCidrs\": [\n      \"10.244.0.0/16\"\n    ],\n    \"serviceCidr\": \"10.0.0.0/16\",\n    \"serviceCidrs\": [\n      \"10.0.0.0/16\"\n    ]\n  },\n  \"nodeResourceGroup\": \"MC_ELG5164-Garbagenet_garbagenet-cluster_eastus2\",\n  \"oidcIssuerProfile\": {\n    \"enabled\": false,\n    \"issuerUrl\": null\n  },\n  \"podIdentityProfile\": null,\n  \"powerState\": {\n    \"code\": \"Running\"\n  },\n  \"privateFqdn\": null,\n  \"privateLinkResources\": null,\n  \"provisioningState\": \"Succeeded\",\n  \"publicNetworkAccess\": null,\n  \"resourceGroup\": \"ELG5164-Garbagenet\",\n  \"securityProfile\": {\n    \"azureKeyVaultKms\": null,\n    \"defender\": null\n  },\n  \"servicePrincipalProfile\": {\n    \"clientId\": \"msi\",\n    \"secret\": null\n  },\n  \"sku\": {\n    \"name\": \"Basic\",\n    \"tier\": \"Free\"\n  },\n  \"storageProfile\": {\n    \"blobCsiDriver\": null,\n    \"diskCsiDriver\": {\n      \"enabled\": true\n    },\n    \"fileCsiDriver\": {\n      \"enabled\": true\n    },\n    \"snapshotController\": {\n      \"enabled\": true\n    }\n  },\n  \"systemData\": null,\n  \"tags\": null,\n  \"type\": \"Microsoft.ContainerService/ManagedClusters\",\n  \"windowsProfile\": null,\n  \"workloadAutoScalerProfile\": {\n    \"keda\": null\n  }\n}\n"
        }
      ],
      "execution_count": 1,
      "metadata": {
        "jupyter": {
          "source_hidden": false,
          "outputs_hidden": false
        },
        "nteract": {
          "transient": {
            "deleting": false
          }
        }
      }
    },
    {
      "cell_type": "code",
      "source": [
        "!az aks get-credentials --resource-group ELG5164-Garbagenet --name garbagenet-cluster"
      ],
      "outputs": [
        {
          "output_type": "stream",
          "name": "stdout",
          "text": "\u001b[93mMerged \"garbagenet-cluster\" as current context in /home/azureuser/.kube/config\u001b[0m\r\n"
        }
      ],
      "execution_count": 2,
      "metadata": {
        "jupyter": {
          "source_hidden": false,
          "outputs_hidden": false
        },
        "nteract": {
          "transient": {
            "deleting": false
          }
        }
      }
    },
    {
      "cell_type": "code",
      "source": [
        "!kubectl create secret docker-registry acr-auth-secret --docker-server=garbagenettrainer.azurecr.io --docker-username=GarbagenetTrainer --docker-password=UU/P8bd7c52OianKIVaPznixIXq3cqe3zTDNG+d87f+ACRAgPBmi"
      ],
      "outputs": [
        {
          "output_type": "stream",
          "name": "stdout",
          "text": "secret/acr-auth-secret created\r\n"
        }
      ],
      "execution_count": 76,
      "metadata": {
        "jupyter": {
          "source_hidden": false,
          "outputs_hidden": false
        },
        "nteract": {
          "transient": {
            "deleting": false
          }
        },
        "gather": {
          "logged": 1680447706629
        }
      }
    },
    {
      "cell_type": "code",
      "source": [
        "!pwd\r\n",
        "!kubectl apply -f garbagenet.yaml"
      ],
      "outputs": [
        {
          "output_type": "stream",
          "name": "stdout",
          "text": "/mnt/batch/tasks/shared/LS_root/mounts/clusters/garbage-machine/code/Users/varunvora24/CD\ndeployment.apps/garbagenet-deployment created\nservice/garbagenet-service created\n"
        }
      ],
      "execution_count": 77,
      "metadata": {
        "jupyter": {
          "source_hidden": false,
          "outputs_hidden": false
        },
        "nteract": {
          "transient": {
            "deleting": false
          }
        }
      }
    },
    {
      "cell_type": "code",
      "source": [
        "!kubectl get deploy\r\n",
        "!kubectl get svc"
      ],
      "outputs": [
        {
          "output_type": "stream",
          "name": "stdout",
          "text": "NAME                    READY   UP-TO-DATE   AVAILABLE   AGE\ngarbagenet-deployment   3/3     3            3           76s\nNAME                 TYPE           CLUSTER-IP    EXTERNAL-IP     PORT(S)                         AGE\ngarbagenet-service   LoadBalancer   10.0.15.187   20.88.106.226   8500:30484/TCP,8501:31714/TCP   77s\nkubernetes           ClusterIP      10.0.0.1      <none>          443/TCP                         17h\n"
        }
      ],
      "execution_count": 97,
      "metadata": {
        "jupyter": {
          "source_hidden": false,
          "outputs_hidden": false
        },
        "nteract": {
          "transient": {
            "deleting": false
          }
        }
      }
    },
    {
      "cell_type": "code",
      "source": [
        "!kubectl delete -f garbagenet.yaml\r\n",
        "!kubectl delete secret acr-auth-secret"
      ],
      "outputs": [
        {
          "output_type": "stream",
          "name": "stdout",
          "text": "deployment.apps \"garbagenet-deployment\" deleted\r\nservice \"garbagenet-service\" deleted\r\n"
        }
      ],
      "execution_count": 98,
      "metadata": {
        "jupyter": {
          "source_hidden": false,
          "outputs_hidden": false
        },
        "nteract": {
          "transient": {
            "deleting": false
          }
        }
      }
    },
    {
      "cell_type": "code",
      "source": [],
      "outputs": [],
      "execution_count": null,
      "metadata": {
        "jupyter": {
          "source_hidden": false,
          "outputs_hidden": false
        },
        "nteract": {
          "transient": {
            "deleting": false
          }
        }
      }
    }
  ],
  "metadata": {
    "kernelspec": {
      "name": "python310-sdkv2",
      "language": "python",
      "display_name": "Python 3.10 - SDK v2"
    },
    "language_info": {
      "name": "python",
      "version": "3.10.9",
      "mimetype": "text/x-python",
      "codemirror_mode": {
        "name": "ipython",
        "version": 3
      },
      "pygments_lexer": "ipython3",
      "nbconvert_exporter": "python",
      "file_extension": ".py"
    },
    "microsoft": {
      "ms_spell_check": {
        "ms_spell_check_language": "en"
      }
    },
    "nteract": {
      "version": "nteract-front-end@1.0.0"
    },
    "kernel_info": {
      "name": "python310-sdkv2"
    }
  },
  "nbformat": 4,
  "nbformat_minor": 2
}