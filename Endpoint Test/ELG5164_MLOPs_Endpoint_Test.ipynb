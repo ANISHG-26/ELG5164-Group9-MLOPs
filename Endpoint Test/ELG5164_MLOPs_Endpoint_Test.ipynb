{
  "nbformat": 4,
  "nbformat_minor": 0,
  "metadata": {
    "colab": {
      "provenance": []
    },
    "kernelspec": {
      "name": "python3",
      "display_name": "Python 3"
    },
    "language_info": {
      "name": "python"
    }
  },
  "cells": [
    {
      "cell_type": "code",
      "execution_count": 1,
      "metadata": {
        "id": "YYWSJ7PUIPK0"
      },
      "outputs": [],
      "source": [
        "import tensorflow as tf\n",
        "import base64\n",
        "import requests"
      ]
    },
    {
      "cell_type": "code",
      "source": [
        "# Dictionary to save our 6 classes\n",
        "categories = {'paper': 0,'cardboard': 1,'plastic': 2,'metal': 3,'trash': 4,'glass': 5}\n",
        "\n",
        "test_image_name = \"Dipesh_Food_Container.jpg\"\n",
        "with open(test_image_name, \"rb\") as f:\n",
        "    data = f.read()\n",
        "b64str = base64.b64encode(data).decode(\"utf-8\")\n",
        "\n",
        "serving_input = \"bytes_inputs\"\n",
        "\n",
        "instances = [{serving_input: {\"b64\": b64str}}]\n",
        "\n",
        "\n",
        "# Define the endpoint with the format: http://localhost:8501/v1/models/MODEL_NAME:predict\n",
        "gcp_endpoint = \"http://35.223.18.186:8501/v1/models/garbagenet:predict\"\n",
        "aws_endpoint = \"http://ad85afe98ab194b1cabf57f002103cf4-1054614200.us-east-2.elb.amazonaws.com:8501/v1/models/garbagenet:predict\"\n",
        "azure_endpoint = \"http://20.10.99.132:8501/v1/models/garbagenet:predict\"\n",
        "\n",
        "# Prepare the data that is going to be sent in the POST request\n",
        "json_data = {\n",
        "  \"instances\": instances\n",
        "}\n",
        "\n",
        "# Send the request to the Prediction API\n",
        "response = requests.post(gcp_endpoint, json=json_data)\n",
        "\n",
        "# Retrieve the highest probablity index of the Tensor (actual prediction)\n",
        "predicted_label = tf.argmax(response.json()['predictions'][0])\n",
        "\n",
        "predicted_class= [k for k, v in categories.items() if v == predicted_label][0]\n",
        "\n",
        "\n",
        "print(f\"Class: {predicted_class}\")"
      ],
      "metadata": {
        "colab": {
          "base_uri": "https://localhost:8080/"
        },
        "id": "sGU7plbuIWSX",
        "outputId": "650b6107-91e8-402a-d43a-b5225c18804c"
      },
      "execution_count": 3,
      "outputs": [
        {
          "output_type": "stream",
          "name": "stdout",
          "text": [
            "Class: cardboard\n"
          ]
        }
      ]
    }
  ]
}